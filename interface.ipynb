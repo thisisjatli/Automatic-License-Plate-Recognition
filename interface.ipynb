{
 "cells": [
  {
   "cell_type": "code",
   "execution_count": 1,
   "id": "41789774-bab8-4874-81b3-a8025c79d2f2",
   "metadata": {},
   "outputs": [
    {
     "name": "stdout",
     "output_type": "stream",
     "text": [
      "True\n"
     ]
    }
   ],
   "source": [
    "import io\n",
    "import os\n",
    "import PySimpleGUI as sg\n",
    "from PIL import Image\n",
    "%run detection.ipynb import main\n",
    "# %run segmentation.ipynb import output"
   ]
  },
  {
   "cell_type": "code",
   "execution_count": 2,
   "id": "735145e0-0948-4cda-8fd0-9a8fba2f7039",
   "metadata": {},
   "outputs": [],
   "source": [
    "def create_layout():\n",
    "    leftside = [[sg.Text('Your image: '), sg.In(size=(25, 1), enable_events=True, key='-FILE-'), sg.FileBrowse()], \n",
    "                [sg.Image(key='-IMAGE-', size=(50, 50),pad=(20, 30))],\n",
    "                [sg.Button(button_text='Show result', enable_events=True, key='-RESULT-')],\n",
    "                [sg.Button(button_text='Close', enable_events=True, key='OK')]]\n",
    "    \n",
    "    rightside = [[sg.Text('Detected license plate')], \n",
    "                 [sg.Image(key='-PLATE-', pad=(50, 30))], \n",
    "                 [sg.HSeparator(pad=(20,10))], [sg.Text('Output')], \n",
    "                 [sg.Text(key='-OUTPUT-', text_color='black', size=(30, 10))]]\n",
    "    \n",
    "    layout = [[sg.Column(leftside), sg.VSeparator(), sg.Column(rightside)]]\n",
    "    return layout"
   ]
  },
  {
   "cell_type": "code",
   "execution_count": 3,
   "id": "89ed412b-972f-424f-bdc8-e87e7cd88662",
   "metadata": {},
   "outputs": [],
   "source": [
    "if __name__ == '__main__':\n",
    "    layout = create_layout()\n",
    "    window = sg.Window('ALPR', layout)\n",
    "    \n",
    "    while True:\n",
    "        event, values = window.read()\n",
    "        \n",
    "        if event == \"OK\" or event == sg.WIN_CLOSED:\n",
    "            break\n",
    "            \n",
    "        if event == '-FILE-':\n",
    "            try:\n",
    "                filepath = values['-FILE-']\n",
    "                img = Image.open(filepath)\n",
    "                img = img.resize((450, 300))\n",
    "                bio = io.BytesIO()\n",
    "                img.save(bio, format='PNG')\n",
    "                # print(filepath)\n",
    "                window['-IMAGE-'].update(data=bio.getvalue())\n",
    "            except:\n",
    "                pass\n",
    "            \n",
    "        elif event == '-RESULT-':\n",
    "            try:\n",
    "                img, result = main(values['-FILE-'])\n",
    "                img = Image.fromarray(img[:, :, ::-1], mode='RGB')\n",
    "                img = img.resize((300, 100))\n",
    "                bio = io.BytesIO()\n",
    "                img.save(bio, format='PNG')\n",
    "                window['-PLATE-'].update(data=bio.getvalue())\n",
    "                \n",
    "                # output = show_result(img)\n",
    "                window['-OUTPUT-'].update(result)\n",
    "                window['-OUTPUT-'].update(size=(50,50))\n",
    "            except:\n",
    "                pass\n",
    "            \n",
    "    window.close()"
   ]
  }
 ],
 "metadata": {
  "kernelspec": {
   "display_name": "Python 3 (ipykernel)",
   "language": "python",
   "name": "python3"
  },
  "language_info": {
   "codemirror_mode": {
    "name": "ipython",
    "version": 3
   },
   "file_extension": ".py",
   "mimetype": "text/x-python",
   "name": "python",
   "nbconvert_exporter": "python",
   "pygments_lexer": "ipython3",
   "version": "3.8.5"
  }
 },
 "nbformat": 4,
 "nbformat_minor": 5
}
