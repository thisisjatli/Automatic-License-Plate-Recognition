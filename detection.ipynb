{
 "cells": [
  {
   "cell_type": "code",
   "execution_count": 1,
   "metadata": {
    "executionInfo": {
     "elapsed": 280,
     "status": "ok",
     "timestamp": 1654977115318,
     "user": {
      "displayName": "游若雯",
      "userId": "05921365774485974895"
     },
     "user_tz": -480
    },
    "id": "tM3RKmZ7cdqu"
   },
   "outputs": [
    {
     "name": "stdout",
     "output_type": "stream",
     "text": [
      "True\n"
     ]
    }
   ],
   "source": [
    "import numpy as np\n",
    "import cv2\n",
    "import math\n",
    "import os\n",
    "from scipy import ndimage\n",
    "%run segmentation.ipynb import output"
   ]
  },
  {
   "cell_type": "markdown",
   "metadata": {
    "id": "tZEIu6yhHYB6"
   },
   "source": [
    "Do the Gaussian Blur:\n",
    "1. g_kernel(): construct gaussian kernel for size\n",
    "2. convolution(): apply it on image"
   ]
  },
  {
   "cell_type": "code",
   "execution_count": 2,
   "metadata": {
    "executionInfo": {
     "elapsed": 10,
     "status": "ok",
     "timestamp": 1654976919907,
     "user": {
      "displayName": "游若雯",
      "userId": "05921365774485974895"
     },
     "user_tz": -480
    },
    "id": "Se8502GDcncf"
   },
   "outputs": [],
   "source": [
    "def convolution(image, kernel):\n",
    "    image_row, image_col = image.shape\n",
    "    kernel_row, kernel_col = kernel.shape\n",
    " \n",
    "    mid_height = int((kernel_row - 1) / 2)\n",
    "    mid_width = int((kernel_col - 1) / 2)\n",
    "    conv_img = np.zeros(image.shape)\n",
    " \n",
    "    mid_image = np.zeros((image_row + (2 * mid_height), image_col + (2 * mid_width)))\n",
    " \n",
    "    mid_image[mid_height:mid_image.shape[0] - mid_height, mid_width:mid_image.shape[1] - mid_width] = image\n",
    "\n",
    "    for row in range(image_row):\n",
    "        for col in range(image_col):\n",
    "            conv_img[row, col] = np.sum(kernel * mid_image[row:row + kernel_row, col:col + kernel_col])\n",
    "            conv_img[row, col] = conv_img[row, col] / (kernel.shape[0] * kernel.shape[1])\n",
    "            \n",
    "    conv_img = cv2.normalize(conv_img, None, 0, 1, cv2.NORM_MINMAX)\n",
    "    conv_img = cv2.normalize(conv_img, None, 0, 255, cv2.NORM_MINMAX)\n",
    "    conv_img = conv_img.astype(np.uint8)\n",
    "        \n",
    " \n",
    "    return conv_img"
   ]
  },
  {
   "cell_type": "code",
   "execution_count": 3,
   "metadata": {
    "executionInfo": {
     "elapsed": 11,
     "status": "ok",
     "timestamp": 1654976919908,
     "user": {
      "displayName": "游若雯",
      "userId": "05921365774485974895"
     },
     "user_tz": -480
    },
    "id": "HP0TXq8hcnfa"
   },
   "outputs": [],
   "source": [
    "def norm(x, mu, dev):\n",
    "    return 1 / (np.sqrt(2 * np.pi) * dev) * np.e ** (-np.power((x - mu) / dev, 2) / 2)\n",
    " \n",
    "def g_kernel(size, dev):\n",
    "    kernel = np.linspace(-(size // 2), size // 2, size)\n",
    "    for i in range(size):\n",
    "        kernel[i] = norm(kernel[i], 0, dev)\n",
    "    kernel_2D = np.outer(kernel.T, kernel.T)\n",
    " \n",
    "    kernel_2D *= 1.0 / kernel_2D.max()\n",
    " \n",
    "    return kernel_2D"
   ]
  },
  {
   "cell_type": "code",
   "execution_count": 4,
   "metadata": {
    "executionInfo": {
     "elapsed": 10,
     "status": "ok",
     "timestamp": 1654976919908,
     "user": {
      "displayName": "游若雯",
      "userId": "05921365774485974895"
     },
     "user_tz": -480
    },
    "id": "FJx6FPzDcniE"
   },
   "outputs": [],
   "source": [
    "def gaussian_blur(image, kernel_size):\n",
    "    kernel = g_kernel(kernel_size, math.sqrt(kernel_size))\n",
    "    return convolution(image, kernel)"
   ]
  },
  {
   "cell_type": "markdown",
   "metadata": {
    "id": "1m1egewxH-EQ"
   },
   "source": [
    "Do the gradient calculation"
   ]
  },
  {
   "cell_type": "code",
   "execution_count": 5,
   "metadata": {
    "executionInfo": {
     "elapsed": 2,
     "status": "ok",
     "timestamp": 1654977934667,
     "user": {
      "displayName": "游若雯",
      "userId": "05921365774485974895"
     },
     "user_tz": -480
    },
    "id": "r2HYb2H-cnlP"
   },
   "outputs": [],
   "source": [
    "def cal_gradient(img):\n",
    "    height,width=img.shape\n",
    "\n",
    "    #Calculating the gradients\n",
    "    Ix = cv2.Sobel(np.float32(img), cv2.CV_64F, 1, 0, 3)\n",
    "    Iy = cv2.Sobel(np.float32(img), cv2.CV_64F, 0, 1, 3)\n",
    "\n",
    "    g, angle = cv2.cartToPolar(Ix, Iy, angleInDegrees=True)\n",
    "\n",
    "    return g, angle"
   ]
  },
  {
   "cell_type": "markdown",
   "metadata": {
    "id": "cUyJHmOAIEsH"
   },
   "source": [
    "Do the non-maximum suppression:\n",
    "1. for every point, find the neighbors in every angle\n",
    "2. If it does not have the highest intensity, it will be 0."
   ]
  },
  {
   "cell_type": "code",
   "execution_count": 6,
   "metadata": {
    "executionInfo": {
     "elapsed": 10,
     "status": "ok",
     "timestamp": 1654976919909,
     "user": {
      "displayName": "游若雯",
      "userId": "05921365774485974895"
     },
     "user_tz": -480
    },
    "id": "nbemmhy2cnn_"
   },
   "outputs": [],
   "source": [
    "def non_max_suppression(g, angle):\n",
    "    g_max=np.max(g)\n",
    "    weak=g_max*0.1\n",
    "    height,width=g.shape\n",
    "    \n",
    "    for x in range(width):\n",
    "        for y in range(height):\n",
    "            \n",
    "            d_angle=angle[y,x]\n",
    "            d_angle = abs(d_angle-180) if abs(d_angle)>180 else abs(d_angle)\n",
    "            \n",
    "            # selecting the neigbours according to the gradient direction\n",
    "            if d_angle <= 22.5:\n",
    "                neighb1_x,neighb1_y = x-1,y\n",
    "                neighb2_x,neighb2_y = x+1,y\n",
    "            elif d_angle > 22.5 and d_angle <= (22.5+45):\n",
    "                neighb1_x,neighb1_y = x-1,y-1\n",
    "                neighb2_x,neighb2_y = x+1,y+1\n",
    "            elif d_angle > (22.5+45) and d_angle <= (22.5+90):\n",
    "                neighb1_x,neighb1_y = x,y-1\n",
    "                neighb2_x,neighb2_y = x,y+1\n",
    "            elif d_angle > (22.5+90) and d_angle <= (22.5+135):\n",
    "                neighb1_x,neighb1_y = x-1,y+1\n",
    "                neighb2_x,neighb2_y = x+1,y-1\n",
    "            elif d_angle > (22.5+135) and d_angle <= (22.5+180):\n",
    "                neighb1_x,neighb1_y = x-1,y\n",
    "                neighb2_x,neighb2_y = x+1,y\n",
    "            \n",
    "            # Non-maximum supression step:\n",
    "            # If it does not have the highest intensity, it will be 0.\n",
    "            if width>neighb1_x>=0 and height>neighb1_y>=0:\n",
    "                if g[y,x]<g[neighb1_y,neighb1_x]:\n",
    "                    g[y,x]=0\n",
    "                    continue\n",
    "\n",
    "            if width>neighb2_x>=0 and height>neighb2_y>=0:\n",
    "                if g[y,x]<g[neighb2_y,neighb2_x]:\n",
    "                    g[y,x]=0\n",
    "\n",
    "    return g, weak"
   ]
  },
  {
   "cell_type": "markdown",
   "metadata": {
    "id": "7gCzR7wOKTMF"
   },
   "source": [
    "Do the thredhold part:\n",
    "If the intensity is lower than weak, it will be set to 0."
   ]
  },
  {
   "cell_type": "code",
   "execution_count": 7,
   "metadata": {
    "executionInfo": {
     "elapsed": 10,
     "status": "ok",
     "timestamp": 1654976919910,
     "user": {
      "displayName": "游若雯",
      "userId": "05921365774485974895"
     },
     "user_tz": -480
    },
    "id": "Q0-5Pr4vcntS"
   },
   "outputs": [],
   "source": [
    "def threshold(img, weak):\n",
    "    height,width=img.shape\n",
    "    for x in range(width):\n",
    "        for y in range(height):\n",
    "            if img[y,x] < weak:\n",
    "                img[y,x]=0\n",
    " \n",
    "    return img"
   ]
  },
  {
   "cell_type": "markdown",
   "metadata": {
    "id": "uTwd9_0pKffb"
   },
   "source": [
    "Do the Hysteresis part:\n",
    "1. For every weak pixel, if its any neighbor is strong pixel, it will set to be strong pixel.\n",
    "2. If not, it will be 0.\n",
    "3. its neighbors are 8 pixels that around it."
   ]
  },
  {
   "cell_type": "code",
   "execution_count": 8,
   "metadata": {
    "executionInfo": {
     "elapsed": 11,
     "status": "ok",
     "timestamp": 1654976919911,
     "user": {
      "displayName": "游若雯",
      "userId": "05921365774485974895"
     },
     "user_tz": -480
    },
    "id": "-t-02-cUcnwW"
   },
   "outputs": [],
   "source": [
    "def hysteresis(img, weak, strong=255):\n",
    "    M, N = img.shape  \n",
    "    for i in range(1, M-1):\n",
    "        for j in range(1, N-1):\n",
    "            if (img[i,j] == weak):\n",
    "                # neighbor has strong pixel\n",
    "                if ((img[i+1, j-1] == strong) or (img[i+1, j] == strong) or (img[i+1, j+1] == strong)\n",
    "                    or (img[i, j-1] == strong) or (img[i, j+1] == strong)\n",
    "                    or (img[i-1, j-1] == strong) or (img[i-1, j] == strong) or (img[i-1, j+1] == strong)):\n",
    "                    img[i, j] = strong\n",
    "                else:\n",
    "                    img[i, j] = 0\n",
    "    return img"
   ]
  },
  {
   "cell_type": "markdown",
   "metadata": {
    "id": "MtyOLMktLPEL"
   },
   "source": [
    "Canny edge detection:\n",
    "1. gaussian blur\n",
    "2. cal_gradient\n",
    "3. non_max_suppression\n",
    "4. threshold\n",
    "5. hysteresis"
   ]
  },
  {
   "cell_type": "code",
   "execution_count": 9,
   "metadata": {
    "executionInfo": {
     "elapsed": 282,
     "status": "ok",
     "timestamp": 1654977209077,
     "user": {
      "displayName": "游若雯",
      "userId": "05921365774485974895"
     },
     "user_tz": -480
    },
    "id": "dDqEVLXicnzv"
   },
   "outputs": [],
   "source": [
    "# implementing canny edge detection\n",
    "def imple_canny(img):\n",
    "    \n",
    "    #Noise reduction step is doing gaussian_blur\n",
    "    img = gaussian_blur(img, 7)\n",
    "    \n",
    "    g, angle = cal_gradient(img)\n",
    "    \n",
    "    #setting the minimum and maximum thresholds for double thresholding\n",
    "    sup_output, weak = non_max_suppression(g, angle)\n",
    "\n",
    "    thres_output = threshold(sup_output, weak)\n",
    "    \n",
    "    output = hysteresis(thres_output, 50)\n",
    "\n",
    "    # change image type to uint8\n",
    "    output = output.astype(np.uint8)\n",
    "\n",
    "    return output\n",
    "    "
   ]
  },
  {
   "cell_type": "markdown",
   "metadata": {
    "id": "P2uMKfGnLrzf"
   },
   "source": [
    "### The main part of the code."
   ]
  },
  {
   "cell_type": "code",
   "execution_count": 10,
   "metadata": {},
   "outputs": [],
   "source": [
    "def main(imgpath):\n",
    "    image = cv2.imread(imgpath)\n",
    "    image = cv2.resize(image, (800,600))\n",
    "    gray_image = cv2.cvtColor(image, cv2.COLOR_BGR2GRAY)\n",
    "    canny_img = imple_canny(gray_image)\n",
    "    \n",
    "    # find contours\n",
    "    cnts,new = cv2.findContours(canny_img.copy(), cv2.RETR_LIST, cv2.CHAIN_APPROX_SIMPLE)\n",
    "    cnts = sorted(cnts, key = cv2.contourArea, reverse = True) [:30]\n",
    "    \n",
    "    screenCnt = None\n",
    "    # find plate\n",
    "    for c in cnts:\n",
    "        perimeter = cv2.arcLength(c, True)\n",
    "        approx = cv2.approxPolyDP(c, 0.018 * perimeter, True)\n",
    "        # find the rectangle, so the length is 4.\n",
    "        if len(approx) == 4: \n",
    "            screenCnt = approx\n",
    "\n",
    "            # save the height and width of the license plate\n",
    "            x,y,w,h = cv2.boundingRect(c)\n",
    "            plate_img=image[y:y+h,x:x+w]\n",
    "            \n",
    "            break\n",
    "    \n",
    "    result = output(plate_img)\n",
    "    \n",
    "    \n",
    "    return plate_img, result"
   ]
  },
  {
   "cell_type": "code",
   "execution_count": 11,
   "metadata": {},
   "outputs": [
    {
     "name": "stdout",
     "output_type": "stream",
     "text": [
      "itzy\n",
      "1AYA727\n"
     ]
    }
   ],
   "source": [
    "# if __name__ == '__main__':\n",
    "#     imgpath = 'car_demo/1001.jpg'\n",
    "#     img, result = main(imgpath)\n",
    "#     print(result)"
   ]
  }
 ],
 "metadata": {
  "colab": {
   "authorship_tag": "ABX9TyOf55wtcbKBRWMWCqvhgn7K",
   "collapsed_sections": [],
   "name": "detection.ipynb",
   "provenance": []
  },
  "kernelspec": {
   "display_name": "Python 3 (ipykernel)",
   "language": "python",
   "name": "python3"
  },
  "language_info": {
   "codemirror_mode": {
    "name": "ipython",
    "version": 3
   },
   "file_extension": ".py",
   "mimetype": "text/x-python",
   "name": "python",
   "nbconvert_exporter": "python",
   "pygments_lexer": "ipython3",
   "version": "3.8.5"
  }
 },
 "nbformat": 4,
 "nbformat_minor": 4
}
