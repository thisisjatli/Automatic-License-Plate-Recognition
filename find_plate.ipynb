{
 "cells": [
  {
   "cell_type": "code",
   "execution_count": 1,
   "id": "35f172e9-0aed-49b1-b99b-10a2383cf05e",
   "metadata": {},
   "outputs": [],
   "source": [
    "import cv2"
   ]
  },
  {
   "cell_type": "code",
   "execution_count": 84,
   "id": "4b770884-79a8-4748-9752-ad8aaec4de0a",
   "metadata": {},
   "outputs": [],
   "source": [
    "# load cascade\n",
    "ver = 10\n",
    "plate_detect = cv2.CascadeClassifier(f'cascade/ver{ver}/cascade.xml')"
   ]
  },
  {
   "cell_type": "code",
   "execution_count": 85,
   "id": "024a8c5e-7a30-454c-abe7-5bd052bd8f83",
   "metadata": {},
   "outputs": [],
   "source": [
    "test_img = cv2.imread('tw1.jpg')\n",
    "rect = plate_detect.detectMultiScale(test_img)"
   ]
  },
  {
   "cell_type": "code",
   "execution_count": 86,
   "id": "e46933ec-3211-4c23-976e-ee994626810d",
   "metadata": {},
   "outputs": [
    {
     "data": {
      "text/plain": [
       "array([[385, 199,  59,  59],\n",
       "       [282, 302,  48,  48],\n",
       "       [276, 158,  36,  36],\n",
       "       [422, 127,  62,  62],\n",
       "       [485, 108,  66,  66],\n",
       "       [242, 137,  57,  57],\n",
       "       [149,  42, 113, 113],\n",
       "       [ 62,  77,  73,  73],\n",
       "       [187, 124,  74,  74],\n",
       "       [416,  23,  57,  57]])"
      ]
     },
     "execution_count": 86,
     "metadata": {},
     "output_type": "execute_result"
    }
   ],
   "source": [
    "rect"
   ]
  },
  {
   "cell_type": "code",
   "execution_count": 87,
   "id": "2c5d27d1-0a0b-46fc-9443-17c69f6dfc4e",
   "metadata": {},
   "outputs": [],
   "source": [
    "i = 0\n",
    "for row in rect:\n",
    "    cv2.rectangle(test_img, row[0:2], row[2:4], (0, 255, 0), 2)"
   ]
  },
  {
   "cell_type": "code",
   "execution_count": 88,
   "id": "1bd89fc8-5868-4f39-8d31-d6c6bd7a6fef",
   "metadata": {},
   "outputs": [],
   "source": [
    "cv2.imshow('img', test_img)\n",
    "cv2.waitKey(0)\n",
    "cv2.destroyAllWindows()"
   ]
  },
  {
   "cell_type": "code",
   "execution_count": null,
   "id": "377debdc-2411-40ed-9a79-b9ac06f5367c",
   "metadata": {},
   "outputs": [],
   "source": [
    "D:\\OpenCV_3_4_16\\opencv\\build\\x64\\vc15\\bin\\opencv_traincascade.exe -data cascade/ver10 -vec pos_tw.vec -bg neg_tw.txt -w 24 -h 24 -numPos 500 -numNeg 1000 -numStages 13 -maxFalseAlarmRate 0.15 -minHitRate 0.999 -acceptanceRatioBreakValue 0.0003"
   ]
  }
 ],
 "metadata": {
  "kernelspec": {
   "display_name": "Python 3 (ipykernel)",
   "language": "python",
   "name": "python3"
  },
  "language_info": {
   "codemirror_mode": {
    "name": "ipython",
    "version": 3
   },
   "file_extension": ".py",
   "mimetype": "text/x-python",
   "name": "python",
   "nbconvert_exporter": "python",
   "pygments_lexer": "ipython3",
   "version": "3.8.5"
  }
 },
 "nbformat": 4,
 "nbformat_minor": 5
}
